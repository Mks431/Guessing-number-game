{
 "cells": [
  {
   "cell_type": "markdown",
   "metadata": {},
   "source": [
    "# Number guessing game"
   ]
  },
  {
   "cell_type": "markdown",
   "metadata": {},
   "source": [
    "You're creating a number guessing game where the computer generates a random number\\\n",
    "between 1 and 100, and the player has to guess it.\\\n",
    "Write Python code to generate a random number between 1 and 100.\\\n",
    "Use control flow statements and loops to allow the player to guess the number and provide feedback (too high, too low, or correct).\\\n",
    "Define a user-defined function to encapsulate the game logic and call this function to play the game."
   ]
  },
  {
   "cell_type": "code",
   "execution_count": null,
   "metadata": {},
   "outputs": [],
   "source": [
    "import random  # Import the module\n",
    "\n",
    "def number_guessing_game():\n",
    "    secret_number = random.randint(1, 100)  # Generate a random number\n",
    "    print(\"\\n🎉 Welcome to the Number Guessing Game! 🎉\")\n",
    "    print(\"I have chosen a number between 1 and 100. Can you guess it?\")\n",
    "\n",
    "    attempts = 0\n",
    "    guess = None\n",
    "\n",
    "    while guess != secret_number:\n",
    "        try:\n",
    "            guess = int(input(\"Enter your guess number: \"))  # Get user input\n",
    "            attempts += 1\n",
    "\n",
    "            if guess < secret_number:\n",
    "                print(\"📉 Too low! Try a higher number.\")\n",
    "            elif guess > secret_number:\n",
    "                print(\"📈 Too high! Try a lower number.\")\n",
    "            else:\n",
    "                print(f\"🎯 Congratulations! You guessed the correct number in {attempts} attempts. 🎉\")\n",
    "                break  # Exit the loop once guessed correctly\n",
    "        except ValueError:\n",
    "            print(\"❌ Invalid input! Please enter a valid integer.\")\n",
    "\n"
   ]
  },
  {
   "cell_type": "code",
   "execution_count": null,
   "metadata": {},
   "outputs": [],
   "source": [
    "# run the game\n",
    "number_guessing_game()"
   ]
  }
 ],
 "metadata": {
  "kernelspec": {
   "display_name": "data_science",
   "language": "python",
   "name": "python3"
  },
  "language_info": {
   "codemirror_mode": {
    "name": "ipython",
    "version": 3
   },
   "file_extension": ".py",
   "mimetype": "text/x-python",
   "name": "python",
   "nbconvert_exporter": "python",
   "pygments_lexer": "ipython3",
   "version": "3.13.1"
  }
 },
 "nbformat": 4,
 "nbformat_minor": 2
}
